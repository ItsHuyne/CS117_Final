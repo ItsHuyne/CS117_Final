{
  "nbformat": 4,
  "nbformat_minor": 0,
  "metadata": {
    "colab": {
      "name": "Code_Final.ipynb",
      "provenance": [],
      "toc_visible": true,
      "collapsed_sections": []
    },
    "kernelspec": {
      "name": "python3",
      "display_name": "Python 3"
    },
    "language_info": {
      "name": "python"
    }
  },
  "cells": [
    {
      "cell_type": "code",
      "execution_count": null,
      "metadata": {
        "colab": {
          "base_uri": "https://localhost:8080/"
        },
        "id": "OwDaySSeT16s",
        "outputId": "cc00388e-4f28-4637-9e7c-ac4583f1e9e0"
      },
      "outputs": [
        {
          "output_type": "stream",
          "name": "stdout",
          "text": [
            "Looking in indexes: https://pypi.org/simple, https://us-python.pkg.dev/colab-wheels/public/simple/\n",
            "Collecting underthesea\n",
            "  Downloading underthesea-1.3.4-py3-none-any.whl (7.6 MB)\n",
            "\u001b[K     |████████████████████████████████| 7.6 MB 4.3 MB/s \n",
            "\u001b[?25hRequirement already satisfied: Click>=6.0 in /usr/local/lib/python3.7/dist-packages (from underthesea) (7.1.2)\n",
            "Requirement already satisfied: tqdm in /usr/local/lib/python3.7/dist-packages (from underthesea) (4.64.0)\n",
            "Collecting unidecode\n",
            "  Downloading Unidecode-1.3.4-py3-none-any.whl (235 kB)\n",
            "\u001b[K     |████████████████████████████████| 235 kB 55.6 MB/s \n",
            "\u001b[?25hCollecting python-crfsuite>=0.9.6\n",
            "  Downloading python_crfsuite-0.9.8-cp37-cp37m-manylinux_2_17_x86_64.manylinux2014_x86_64.whl (965 kB)\n",
            "\u001b[K     |████████████████████████████████| 965 kB 46.8 MB/s \n",
            "\u001b[?25hRequirement already satisfied: scikit-learn in /usr/local/lib/python3.7/dist-packages (from underthesea) (1.0.2)\n",
            "Collecting underthesea-core==0.0.4_alpha.10\n",
            "  Downloading underthesea_core-0.0.4_alpha.10-cp37-cp37m-manylinux2010_x86_64.whl (581 kB)\n",
            "\u001b[K     |████████████████████████████████| 581 kB 64.6 MB/s \n",
            "\u001b[?25hRequirement already satisfied: joblib in /usr/local/lib/python3.7/dist-packages (from underthesea) (1.1.0)\n",
            "Requirement already satisfied: PyYAML in /usr/local/lib/python3.7/dist-packages (from underthesea) (3.13)\n",
            "Requirement already satisfied: requests in /usr/local/lib/python3.7/dist-packages (from underthesea) (2.23.0)\n",
            "Requirement already satisfied: nltk in /usr/local/lib/python3.7/dist-packages (from underthesea) (3.2.5)\n",
            "Requirement already satisfied: six in /usr/local/lib/python3.7/dist-packages (from nltk->underthesea) (1.15.0)\n",
            "Requirement already satisfied: chardet<4,>=3.0.2 in /usr/local/lib/python3.7/dist-packages (from requests->underthesea) (3.0.4)\n",
            "Requirement already satisfied: idna<3,>=2.5 in /usr/local/lib/python3.7/dist-packages (from requests->underthesea) (2.10)\n",
            "Requirement already satisfied: urllib3!=1.25.0,!=1.25.1,<1.26,>=1.21.1 in /usr/local/lib/python3.7/dist-packages (from requests->underthesea) (1.24.3)\n",
            "Requirement already satisfied: certifi>=2017.4.17 in /usr/local/lib/python3.7/dist-packages (from requests->underthesea) (2022.5.18.1)\n",
            "Requirement already satisfied: threadpoolctl>=2.0.0 in /usr/local/lib/python3.7/dist-packages (from scikit-learn->underthesea) (3.1.0)\n",
            "Requirement already satisfied: scipy>=1.1.0 in /usr/local/lib/python3.7/dist-packages (from scikit-learn->underthesea) (1.4.1)\n",
            "Requirement already satisfied: numpy>=1.14.6 in /usr/local/lib/python3.7/dist-packages (from scikit-learn->underthesea) (1.21.6)\n",
            "Installing collected packages: unidecode, underthesea-core, python-crfsuite, underthesea\n",
            "Successfully installed python-crfsuite-0.9.8 underthesea-1.3.4 underthesea-core-0.0.4a10 unidecode-1.3.4\n"
          ]
        }
      ],
      "source": [
        "!pip install underthesea"
      ]
    },
    {
      "cell_type": "code",
      "source": [
        "import pandas as pd\n",
        "import numpy as np\n",
        "import matplotlib.pyplot as plt\n",
        "import re\n",
        "import underthesea\n",
        "from sklearn.model_selection import train_test_split\n",
        "from sklearn.metrics import accuracy_score\n",
        "from sklearn.metrics import f1_score\n",
        "from sklearn.svm import SVC\n",
        "from sklearn.pipeline import Pipeline\n",
        "from sklearn.feature_extraction.text import TfidfVectorizer\n",
        "from sklearn.metrics import classification_report"
      ],
      "metadata": {
        "id": "TNlG1bidT8qP"
      },
      "execution_count": 62,
      "outputs": []
    },
    {
      "cell_type": "markdown",
      "source": [
        "##Download dữ liệu từ git\n"
      ],
      "metadata": {
        "id": "i3MqIwrrUBUA"
      }
    },
    {
      "cell_type": "code",
      "source": [
        "!git clone https://github.com/ItsHuyne/CS117_Final"
      ],
      "metadata": {
        "colab": {
          "base_uri": "https://localhost:8080/"
        },
        "id": "v2KXZemaT-nN",
        "outputId": "6d3b9c92-c6aa-47d8-8afb-0de90b5d75b9"
      },
      "execution_count": 63,
      "outputs": [
        {
          "output_type": "stream",
          "name": "stdout",
          "text": [
            "Cloning into 'CS117_Final'...\n",
            "remote: Enumerating objects: 12, done.\u001b[K\n",
            "remote: Counting objects: 100% (12/12), done.\u001b[K\n",
            "remote: Compressing objects: 100% (9/9), done.\u001b[K\n",
            "remote: Total 12 (delta 2), reused 11 (delta 1), pack-reused 0\u001b[K\n",
            "Unpacking objects: 100% (12/12), done.\n"
          ]
        }
      ]
    },
    {
      "cell_type": "code",
      "source": [
        "%cd /content/CS117_Final\n"
      ],
      "metadata": {
        "colab": {
          "base_uri": "https://localhost:8080/"
        },
        "id": "f24kxJbPWFSX",
        "outputId": "551b3fcb-b15c-48d9-a59c-2a85ea33ae0e"
      },
      "execution_count": 64,
      "outputs": [
        {
          "output_type": "stream",
          "name": "stdout",
          "text": [
            "/content/CS117_Final\n"
          ]
        }
      ]
    },
    {
      "cell_type": "code",
      "source": [
        "!git pull\n"
      ],
      "metadata": {
        "colab": {
          "base_uri": "https://localhost:8080/"
        },
        "id": "EKU4-6uDVhuG",
        "outputId": "79141188-bac6-43e9-c4d6-206d8a1082fb"
      },
      "execution_count": 65,
      "outputs": [
        {
          "output_type": "stream",
          "name": "stdout",
          "text": [
            "Already up to date.\n"
          ]
        }
      ]
    },
    {
      "cell_type": "code",
      "source": [
        "dataset=pd.read_csv(\"/content/CS117_Final/FinalData.csv\")"
      ],
      "metadata": {
        "id": "EhdF6pNqUG-m"
      },
      "execution_count": 66,
      "outputs": []
    },
    {
      "cell_type": "code",
      "source": [
        "dataset.info"
      ],
      "metadata": {
        "colab": {
          "base_uri": "https://localhost:8080/"
        },
        "id": "MHV-tWaKUMHq",
        "outputId": "48242d0a-8847-489e-8f6e-6267be0f6084"
      },
      "execution_count": 67,
      "outputs": [
        {
          "output_type": "execute_result",
          "data": {
            "text/plain": [
              "<bound method DataFrame.info of        label                                               text\n",
              "0          1  Thấm nhanh, thơm, còn lại thì phải chờ thời gi...\n",
              "1          1  Mua tặng bx. Gọn nhẹ, màn oled đẹp, cam đỉnh. ...\n",
              "2          1       Ốp đẹp lắmmmmmmmmmmmmmmmm ạ.................\n",
              "3          1  Mình mua ốp trong suốt này của shop mấy lần rồ...\n",
              "4         -1  Đóng gói sản phẩm rất tệ lọ bị chảy ra nhiều.H...\n",
              "...      ...                                                ...\n",
              "11499      1  Đẹp lắm mng oii săn đc flash sale còn rẻ nx mê...\n",
              "11500      1  Ốp đẹp lắm luôn ạ. Đẹp từ vỏ hộp. Săn deal đượ...\n",
              "11501      1  Đồ xinh lắm ak, giao hàng nhanh nhiệt tình sẽ ...\n",
              "11502      1  Hihi có hơi mỏng so với tưởng tượng nhma với g...\n",
              "11503      0  Hyhybbyixjnxbxghxoyknxbxjkxnxbxnkynxbbxb b. Nỵ...\n",
              "\n",
              "[11504 rows x 2 columns]>"
            ]
          },
          "metadata": {},
          "execution_count": 67
        }
      ]
    },
    {
      "cell_type": "code",
      "source": [
        "dataset['label'].value_counts()"
      ],
      "metadata": {
        "colab": {
          "base_uri": "https://localhost:8080/"
        },
        "id": "a5DC0uK7UN5O",
        "outputId": "b88ad320-c792-44fe-ae2b-c2f147a8ad08"
      },
      "execution_count": 68,
      "outputs": [
        {
          "output_type": "execute_result",
          "data": {
            "text/plain": [
              " 1    7897\n",
              " 0    2150\n",
              "-1    1457\n",
              "Name: label, dtype: int64"
            ]
          },
          "metadata": {},
          "execution_count": 68
        }
      ]
    },
    {
      "cell_type": "code",
      "source": [
        "X_data=dataset['text']\n",
        "Y_data=dataset['label']"
      ],
      "metadata": {
        "id": "Bd-_pAtUUQ1v"
      },
      "execution_count": 69,
      "outputs": []
    },
    {
      "cell_type": "markdown",
      "source": [
        "##Phân phối các lớp"
      ],
      "metadata": {
        "id": "Z1fxNVDzWssc"
      }
    },
    {
      "cell_type": "code",
      "source": [
        "import seaborn as sns\n",
        "sns.set_style(\"dark\")\n",
        "sns.countplot(dataset.label)"
      ],
      "metadata": {
        "colab": {
          "base_uri": "https://localhost:8080/",
          "height": 351
        },
        "id": "2TykLYYvWrB1",
        "outputId": "6b58f472-2506-44bd-9315-4fa9d69cbfa4"
      },
      "execution_count": 70,
      "outputs": [
        {
          "output_type": "stream",
          "name": "stderr",
          "text": [
            "/usr/local/lib/python3.7/dist-packages/seaborn/_decorators.py:43: FutureWarning: Pass the following variable as a keyword arg: x. From version 0.12, the only valid positional argument will be `data`, and passing other arguments without an explicit keyword will result in an error or misinterpretation.\n",
            "  FutureWarning\n"
          ]
        },
        {
          "output_type": "execute_result",
          "data": {
            "text/plain": [
              "<matplotlib.axes._subplots.AxesSubplot at 0x7f7ab40ed190>"
            ]
          },
          "metadata": {},
          "execution_count": 70
        },
        {
          "output_type": "display_data",
          "data": {
            "text/plain": [
              "<Figure size 432x288 with 1 Axes>"
            ],
            "image/png": "[encoded data removed]"
          },
          "metadata": {}
        }
      ]
    },
    {
      "cell_type": "markdown",
      "source": [
        "##Tiền xử lý dữ liệu\n"
      ],
      "metadata": {
        "id": "ywdvB0D2W2oY"
      }
    },
    {
      "cell_type": "code",
      "source": [
        "#Đưa về kiểu chữ thường\n",
        "def text_lowercase(text):\n",
        "    return text.lower()"
      ],
      "metadata": {
        "id": "znaynufWWxTC"
      },
      "execution_count": 71,
      "outputs": []
    },
    {
      "cell_type": "code",
      "source": [
        "#Loại bỏ các con số\n",
        "def remove_number(text):\n",
        "    result = re.sub(r'\\d+', '', text) \n",
        "    return result"
      ],
      "metadata": {
        "id": "gyaCLx1YW6Oq"
      },
      "execution_count": 72,
      "outputs": []
    },
    {
      "cell_type": "code",
      "source": [
        "#Loại bỏ các dấu câu\n",
        "def remove_punctuation(text):\n",
        "    text = text.replace(\",\", \" \").replace(\".\", \" \") \\\n",
        "    .replace(\";\", \" \").replace(\"“\", \" \") \\\n",
        "    .replace(\":\", \" \").replace(\"”\", \" \") \\\n",
        "    .replace('\"', \" \").replace(\"'\", \" \") \\\n",
        "    .replace(\"!\", \" \").replace(\"?\", \" \") \\\n",
        "    .replace(\"-\", \" \").replace(\"?\", \" \")  \n",
        "    return text"
      ],
      "metadata": {
        "id": "b1vtcaK-W70V"
      },
      "execution_count": 73,
      "outputs": []
    },
    {
      "cell_type": "code",
      "source": [
        "#Loại bỏ khoảng trắng thừa\n",
        "def remove_whitespace(text): \n",
        "    return  \" \".join(text.split())"
      ],
      "metadata": {
        "id": "vWZBQ5jLW9v7"
      },
      "execution_count": 74,
      "outputs": []
    },
    {
      "cell_type": "code",
      "source": [
        "# Bỏ bớt các chữ cái giống nhau liên tiếp( Vd: quaaa -> qua)\n",
        "def remove_similarletter(text):\n",
        "    text = re.sub(r'([A-Z])\\1+', lambda m: m.group(1).upper(), text, flags=re.IGNORECASE)\n",
        "    return text"
      ],
      "metadata": {
        "id": "LsHsTsp8W_NW"
      },
      "execution_count": 75,
      "outputs": []
    },
    {
      "cell_type": "code",
      "source": [
        "#Tách từ tiếng Việt sử dụng thư viện underthesea có sẵn\n",
        "def VN_Tokenize(text,format='text'):\n",
        "  return underthesea.word_tokenize(text)"
      ],
      "metadata": {
        "id": "Rw8RM7I-XAp-"
      },
      "execution_count": 76,
      "outputs": []
    },
    {
      "cell_type": "code",
      "source": [
        "!gdown --id 1buHsfg9uC70tuUNe852UBCZxcqFg4re5\n",
        "#tải stopword"
      ],
      "metadata": {
        "colab": {
          "base_uri": "https://localhost:8080/"
        },
        "id": "qFwp89ViXCP3",
        "outputId": "9331fd1f-47b4-42d0-efec-3ec0b57f301a"
      },
      "execution_count": 77,
      "outputs": [
        {
          "output_type": "stream",
          "name": "stdout",
          "text": [
            "/usr/local/lib/python3.7/dist-packages/gdown/cli.py:131: FutureWarning: Option `--id` was deprecated in version 4.3.1 and will be removed in 5.0. You don't need to pass it anymore to use a file ID.\n",
            "  category=FutureWarning,\n",
            "Downloading...\n",
            "From: https://drive.google.com/uc?id=1buHsfg9uC70tuUNe852UBCZxcqFg4re5\n",
            "To: /content/CS117_Final/vietnamese-stopwords-dash (1).txt\n",
            "100% 14.8k/14.8k [00:00<00:00, 15.4MB/s]\n"
          ]
        }
      ]
    },
    {
      "cell_type": "code",
      "source": [
        "#Loại bỏ các stopwords tiếng Việt sử dụng bộ stopwords có sẵn lấy từ\n",
        "def remove_VN_stopwords(text):\n",
        "    file_stopwords = pd.read_csv(\"vietnamese-stopwords-dash (1).txt\", encoding = 'UTF-8')\n",
        "    file_stopwords.columns = [\"Stop_words\"]\n",
        "\n",
        "    VN_stopword = []\n",
        "    for i in file_stopwords[\"Stop_words\"]:\n",
        "        VN_stopword.append(i)\n",
        "        \n",
        "    text_token = VN_Tokenize(text)\n",
        "    result = [word for word in text_token if word not in VN_stopword]\n",
        "    return \" \".join(result)"
      ],
      "metadata": {
        "id": "46fkRkREXemB"
      },
      "execution_count": 78,
      "outputs": []
    },
    {
      "cell_type": "code",
      "source": [
        "#Chuẩn hóa dữ liệu\n",
        "def Util(text):\n",
        "    replace_list = {\n",
        "        'ship': 'vận chuyển', 'shop': 'cửa hàng', 'sho': 'cửa hàng', 'm': 'mình','mk':'mình','mjk':'mình', 'mik': 'mình', 'ko': 'không' , 'k': 'không', 'kh': 'không', 'khong': 'không', 'kg': 'không', 'khg': 'không','hok':'không','hong':'không', 'tl': 'trả lời',\n",
        "        'rep': 'trả lời', 'r': 'rồi', 'fb': 'facebook', 'face': 'faceook', 'thanks': 'cảm ơn', 'thank': 'cảm ơn', 'tks': 'cảm ơn', 'tk': 'cảm ơn', 'ok': 'tốt', 'oki': 'tốt', 'okie': 'tốt', 'sp': 'sản phẩm',\n",
        "        'dc': 'được','đc':'được','dk':'được', 'vs': 'với', 'đt': 'điện thoại', 'thjk': 'thích', 'thik': 'thích', 'qá': 'quá', 'trể': 'trễ', 'bgjo': 'bao giờ', 'h': 'giờ', 'qa': 'quá', 'dep': 'đẹp', 'xau': 'xấu', 'ib': 'nhắn tin',\n",
        "        'cute': 'dễ thương', 'sz': 'size', 'good': 'tốt', 'god': 'tốt', 'bt': 'bình thường','tr':'triệu','dag':'đang','nhiu':'nhiêu','mn':'mọi người','m.n':'mọi người','ac':'anh chị','sag':'sang','s':'sao',\n",
        "        'sz': 'cỡ', 'size': 'cỡ', 'đx': 'được', 'dk': 'được', 'dc': 'được', 'đk': 'được','ae':'anh em','j':'gì','hnay':'hôm nay','lm':'làm','ktra':'kiểm tra','sp':'sản phẩm','zô':'vào',\n",
        "        'đc': 'được', 'authentic': 'chuẩn chính hãng', 'aut': 'chuẩn chính hãng', 'auth ': 'chuẩn chính hãng', 'thick': 'thích','v':'vậy','cng':'cũng','cg':'cũng','ns':'nói','nv':'nhân viên',\n",
        "        'gud': 'tốt', 'god': 'tốt', 'wel done': 'tốt', 'good': 'tốt', 'gút': 'tốt','ng':'người','chs':'chơi','mng':'mọi người','wa':'quá',\n",
        "        'sấu': 'xấu', 'gut': 'tốt', 'tot': 'tốt', 'nice': 'tốt', 'perfect': 'rất tốt','trc':'trước',\n",
        "        'time': 'thời gian', 'qá': 'quá','nc':'nói chung','ace':'anh chị em',\n",
        "        'product': 'sản phẩm', 'quality': 'chất lượng', 'chat': 'chất' , 'excelent': 'hoàn hảo', 'bad': 'tệ', 'sad': 'tệ',\n",
        "        'beautiful': 'đẹp', 'tl': 'trả lời', 'r': 'rồi', 'order': 'đặt hàng',\n",
        "        'chất lg': 'chất lượng', 'sd': 'sử dụng', 'dt': 'điện thoại', 'nt': 'nhắn tin', 'tl': 'trả lời', 'sài': 'xài', 'bjo': 'bao giờ',\n",
        "        'thik': 'thích', 'sop': 'cửa hàng', 'fb': 'facebook', 'face': 'facebook', 'very': 'rất',\n",
        "        'dep': 'đẹp', 'xau': 'xấu','tgdđ':'thế giới di động','tgdd':'thế giới di động','đmx':'điện máy xanh',\n",
        "        'iu': 'yêu', 'fake': 'giả mạo', 'trl': 'trả lời', '><': 'tiêu cực',\n",
        "        'por': 'tệ', 'poor': 'tệ', 'ib': 'nhắn tin', 'rep': 'trả lời', 'fback': 'feedback', 'fedback': 'feedback',\n",
        "        'bin': 'pin', 'cx': 'cũng', 'nch': 'nói chuyện', 'ntn': 'như thế nào', 'vde': 'vấn đề'\n",
        "    }\n",
        "    text = text.split()\n",
        "    len_ = len(text)\n",
        "    for i in range(0, len_):    \n",
        "      for k, v in replace_list.items():\n",
        "        if (text[i]==k):\n",
        "          text[i] = v\n",
        "    return \" \".join(text)"
      ],
      "metadata": {
        "id": "rqmUw0OEXgnR"
      },
      "execution_count": 79,
      "outputs": []
    },
    {
      "cell_type": "code",
      "source": [
        "def Text_PreProcessing_noutil(data):\n",
        "  result_1 = []\n",
        "  for i in data:\n",
        "    i = str(i)\n",
        "    text = text_lowercase(i)\n",
        "    text = Util(text)\n",
        "    text = remove_similarletter(text)\n",
        "    text = remove_number(text)\n",
        "    text = remove_punctuation(text)\n",
        "    text = remove_whitespace(text)\n",
        "    text = remove_VN_stopwords(text)\n",
        "    result_1.append(text)\n",
        "  return result_1"
      ],
      "metadata": {
        "id": "u3bKtDuMXkLv"
      },
      "execution_count": 80,
      "outputs": []
    },
    {
      "cell_type": "code",
      "source": [
        "X_data_1 = X_data\n",
        "Y_data_1 = Y_data"
      ],
      "metadata": {
        "id": "HvaoddPAXnF8"
      },
      "execution_count": 81,
      "outputs": []
    },
    {
      "cell_type": "code",
      "source": [
        "X_data_1 = Text_PreProcessing_noutil(X_data_1)"
      ],
      "metadata": {
        "id": "118y0AXDXqOd"
      },
      "execution_count": 82,
      "outputs": []
    },
    {
      "cell_type": "markdown",
      "source": [
        "## Feature Extraction"
      ],
      "metadata": {
        "id": "Nr6dZ1NbXwl3"
      }
    },
    {
      "cell_type": "code",
      "source": [
        "vectorizer_1 = TfidfVectorizer()\n",
        "vectorizer_1.fit(X_data_1)\n",
        "X_data_tfidf_1 = vectorizer_1.transform(X_data_1).toarray()"
      ],
      "metadata": {
        "id": "o0xu7PSaXr7L"
      },
      "execution_count": 83,
      "outputs": []
    },
    {
      "cell_type": "markdown",
      "source": [
        "# Phân chia tập train và test\n"
      ],
      "metadata": {
        "id": "1fdCpYXAX286"
      }
    },
    {
      "cell_type": "code",
      "source": [
        "X_train_1, X_test_1, Y_train_1, Y_test_1 = train_test_split(X_data_tfidf_1, Y_data_1, test_size=0.3)"
      ],
      "metadata": {
        "id": "q-Sv_b_QX044"
      },
      "execution_count": 84,
      "outputs": []
    },
    {
      "cell_type": "code",
      "source": [
        "print(X_train_1)\n",
        "print(X_data_tfidf_1.shape)"
      ],
      "metadata": {
        "colab": {
          "base_uri": "https://localhost:8080/"
        },
        "id": "PgX-TFbFXzay",
        "outputId": "f18ef22d-038f-4bf5-cbbb-dc2c97e00c14"
      },
      "execution_count": 86,
      "outputs": [
        {
          "output_type": "stream",
          "name": "stdout",
          "text": [
            "[[0. 0. 0. ... 0. 0. 0.]\n",
            " [0. 0. 0. ... 0. 0. 0.]\n",
            " [0. 0. 0. ... 0. 0. 0.]\n",
            " ...\n",
            " [0. 0. 0. ... 0. 0. 0.]\n",
            " [0. 0. 0. ... 0. 0. 0.]\n",
            " [0. 0. 0. ... 0. 0. 0.]]\n",
            "(11504, 6968)\n"
          ]
        }
      ]
    },
    {
      "cell_type": "markdown",
      "source": [
        "# Huấn luyện mô hình và đánh giá kết quả"
      ],
      "metadata": {
        "id": "rdXusFhKX532"
      }
    },
    {
      "cell_type": "code",
      "source": [
        "model_1 = SVC(kernel='linear')\n",
        "model_1.fit(X_train_1, Y_train_1)\n",
        "print(\"Model SVC\")\n",
        "print(\"Train score: \", model_1.score(X_train_1, Y_train_1))\n",
        "print(\"Test score: \", model_1.score(X_test_1, Y_test_1))\n",
        "y_pred_1 = model_1.predict(X_test_1)\n",
        "print(\"F1 score: \",f1_score(Y_test_1, y_pred_1, average = 'macro'))"
      ],
      "metadata": {
        "id": "osuUkJMOX5Kn",
        "colab": {
          "base_uri": "https://localhost:8080/"
        },
        "outputId": "59b86c2a-c92f-4ac9-b4d4-ac059844246f"
      },
      "execution_count": 88,
      "outputs": [
        {
          "output_type": "stream",
          "name": "stdout",
          "text": [
            "Model SVC\n",
            "Train score:  0.9131892697466468\n",
            "Test score:  0.8238702201622248\n",
            "F1 score:  0.7324870997741093\n"
          ]
        }
      ]
    },
    {
      "cell_type": "code",
      "source": [
        "#đoạn code thể hiện confusion matrix lấy từ : https://datascience.stackexchange.com/questions/40067/confusion-matrix-three-classes-python?fbclid=IwAR2gosLkbym_WUq8o9ZgHmOxzn9nZUUfrHN5cLQxWCvZKq9BDLR_qr_f9qA\n",
        "import matplotlib.pyplot as plt\n",
        "from sklearn.metrics import confusion_matrix\n",
        "\n",
        "def plot_confusion_matrix(cm, classes,\n",
        "                          normalize=False,\n",
        "                          title='Confusion matrix',\n",
        "                          cmap=plt.cm.Blues):\n",
        "    \"\"\"\n",
        "    This function prints and plots the confusion matrix.\n",
        "    Normalization can be applied by setting `normalize=True`.\n",
        "    \"\"\"\n",
        "    import itertools\n",
        "    if normalize:\n",
        "        cm = cm.astype('float') / cm.sum(axis=1)[:, np.newaxis]\n",
        "        print(\"Normalized confusion matrix\")\n",
        "    else:\n",
        "        print('Confusion matrix, without normalization')\n",
        "\n",
        "    print(cm)\n",
        "\n",
        "    plt.imshow(cm, interpolation='nearest', cmap=cmap)\n",
        "    plt.title(title)\n",
        "    plt.colorbar()\n",
        "    tick_marks = np.arange(len(classes))\n",
        "    plt.xticks(tick_marks, classes, rotation=45)\n",
        "    plt.yticks(tick_marks, classes)\n",
        "\n",
        "    fmt = '.2f' if normalize else 'd'\n",
        "    thresh = cm.max() / 2.\n",
        "    for i, j in itertools.product(range(cm.shape[0]), range(cm.shape[1])):\n",
        "        plt.text(j, i, format(cm[i, j], fmt),\n",
        "                 horizontalalignment=\"center\",\n",
        "                 color=\"white\" if cm[i, j] > thresh else \"black\")\n",
        "\n",
        "    plt.ylabel('True label')\n",
        "    plt.xlabel('Predicted label')\n",
        "    plt.tight_layout()"
      ],
      "metadata": {
        "id": "T-V4MRBHX-AD"
      },
      "execution_count": 98,
      "outputs": []
    },
    {
      "cell_type": "code",
      "source": [
        "cnf_matrix = confusion_matrix(Y_test_1, y_pred_1,labels=['-1', '0', '1'])\n",
        "np.set_printoptions(precision=2)"
      ],
      "metadata": {
        "id": "ldjIqlqUfIYZ"
      },
      "execution_count": 101,
      "outputs": []
    },
    {
      "cell_type": "code",
      "source": [
        "# Plot non-normalized confusion matrix\n",
        "plt.figure()\n",
        "plot_confusion_matrix(cnf_matrix, classes=[-1, 0, 1],\n",
        "                      title='Confusion matrix, without normalization')"
      ],
      "metadata": {
        "colab": {
          "base_uri": "https://localhost:8080/",
          "height": 366
        },
        "id": "ojDZBqISYIXw",
        "outputId": "3fa89121-2a63-4d52-93d0-a6ee54becc43"
      },
      "execution_count": 102,
      "outputs": [
        {
          "output_type": "stream",
          "name": "stdout",
          "text": [
            "Confusion matrix, without normalization\n",
            "[[0 0 0]\n",
            " [0 0 0]\n",
            " [0 0 0]]\n"
          ]
        },
        {
          "output_type": "display_data",
          "data": {
            "text/plain": [
              "<Figure size 432x288 with 2 Axes>"
            ],
            "image/png": "[encoded data removed]"
          },
          "metadata": {}
        }
      ]
    },
    {
      "cell_type": "code",
      "source": [
        "print(classification_report(Y_test_1, y_pred_1, target_names=['-1', '0', '1']))"
      ],
      "metadata": {
        "colab": {
          "base_uri": "https://localhost:8080/"
        },
        "id": "4fOQP_P4YKJW",
        "outputId": "31594233-95ea-4fa3-929c-56c616b7897e"
      },
      "execution_count": 103,
      "outputs": [
        {
          "output_type": "stream",
          "name": "stdout",
          "text": [
            "              precision    recall  f1-score   support\n",
            "\n",
            "          -1       0.78      0.60      0.68       457\n",
            "           0       0.66      0.58      0.62       663\n",
            "           1       0.87      0.94      0.90      2332\n",
            "\n",
            "    accuracy                           0.82      3452\n",
            "   macro avg       0.77      0.71      0.73      3452\n",
            "weighted avg       0.82      0.82      0.82      3452\n",
            "\n"
          ]
        }
      ]
    },
    {
      "cell_type": "code",
      "source": [
        "from sklearn.naive_bayes import MultinomialNB\n",
        "from sklearn.ensemble import RandomForestClassifier\n",
        "from sklearn.linear_model import LogisticRegression\n",
        "from sklearn.svm import LinearSVC"
      ],
      "metadata": {
        "id": "JppjzUgwYMZz"
      },
      "execution_count": 104,
      "outputs": []
    },
    {
      "cell_type": "code",
      "source": [
        "modelnb = MultinomialNB()\n",
        "modelnb.fit(X_train_1, Y_train_1)\n",
        "print(\"Model MultinomialNB\")\n",
        "print(\"Train score: \", modelnb.score(X_train_1, Y_train_1))\n",
        "print(\"Test score: \", modelnb.score(X_test_1, Y_test_1))\n",
        "y_pred_nb = modelnb.predict(X_test_1)\n",
        "print(\"F1 score: \",f1_score(Y_test_1, y_pred_nb, average = 'macro'))"
      ],
      "metadata": {
        "colab": {
          "base_uri": "https://localhost:8080/"
        },
        "id": "tcTdHEQcYOPf",
        "outputId": "70470f61-d63b-477d-b2c5-1fbf509eb7d5"
      },
      "execution_count": 105,
      "outputs": [
        {
          "output_type": "stream",
          "name": "stdout",
          "text": [
            "Model MultinomialNB\n",
            "Train score:  0.817933432687531\n",
            "Test score:  0.7610081112398609\n",
            "F1 score:  0.5799103601029336\n"
          ]
        }
      ]
    },
    {
      "cell_type": "code",
      "source": [
        "cnf_matrix_nb = confusion_matrix(Y_test_1, y_pred_nb, labels=[-1, 0, 1])\n",
        "np.set_printoptions(precision=2)\n",
        "plt.figure()\n",
        "plot_confusion_matrix(cnf_matrix_nb, classes=[-1, 0, 1],\n",
        "                      title='Confusion matrix, without normalization')\n",
        "print(classification_report(Y_test_1, y_pred_nb, target_names=['-1', '0', '1']))"
      ],
      "metadata": {
        "colab": {
          "base_uri": "https://localhost:8080/",
          "height": 540
        },
        "id": "PkTyhq9cYQTS",
        "outputId": "90a0c421-de01-4de7-f73e-cfa02c9b5902"
      },
      "execution_count": 107,
      "outputs": [
        {
          "output_type": "stream",
          "name": "stdout",
          "text": [
            "Confusion matrix, without normalization\n",
            "[[ 148   67  242]\n",
            " [  16  197  450]\n",
            " [   1   49 2282]]\n",
            "              precision    recall  f1-score   support\n",
            "\n",
            "          -1       0.90      0.32      0.48       457\n",
            "           0       0.63      0.30      0.40       663\n",
            "           1       0.77      0.98      0.86      2332\n",
            "\n",
            "    accuracy                           0.76      3452\n",
            "   macro avg       0.76      0.53      0.58      3452\n",
            "weighted avg       0.76      0.76      0.72      3452\n",
            "\n"
          ]
        },
        {
          "output_type": "display_data",
          "data": {
            "text/plain": [
              "<Figure size 432x288 with 2 Axes>"
            ],
            "image/png": "[encoded data removed]"
          },
          "metadata": {}
        }
      ]
    },
    {
      "cell_type": "code",
      "source": [
        "modellr = LogisticRegression()\n",
        "modellr.fit(X_train_1, Y_train_1)\n",
        "print(\"Model LogisticRegression\")\n",
        "print(\"Train score: \", modellr.score(X_train_1, Y_train_1))\n",
        "print(\"Test score: \", modellr.score(X_test_1, Y_test_1))\n",
        "y_pred_lr = modellr.predict(X_test_1)\n",
        "print(\"F1 score: \",f1_score(Y_test_1, y_pred_lr, average = 'macro'))"
      ],
      "metadata": {
        "colab": {
          "base_uri": "https://localhost:8080/"
        },
        "id": "SUpBeUl_YSlL",
        "outputId": "89a1c69d-507c-40c7-f4c9-d4564f0c36aa"
      },
      "execution_count": 108,
      "outputs": [
        {
          "output_type": "stream",
          "name": "stdout",
          "text": [
            "Model LogisticRegression\n",
            "Train score:  0.8964232488822653\n",
            "Test score:  0.8224217844727694\n",
            "F1 score:  0.7268038229450836\n"
          ]
        }
      ]
    },
    {
      "cell_type": "code",
      "source": [
        "cnf_matrix_lr = confusion_matrix(Y_test_1, y_pred_lr, labels=[-1, 0, 1])\n",
        "np.set_printoptions(precision=2)\n",
        "plt.figure()\n",
        "plot_confusion_matrix(cnf_matrix_lr, classes=[-1, 0, 1],\n",
        "                      title='Confusion matrix, without normalization')"
      ],
      "metadata": {
        "colab": {
          "base_uri": "https://localhost:8080/",
          "height": 366
        },
        "id": "MDj4CsHAYUec",
        "outputId": "bc830097-04df-4367-f3d0-92b6df73c59a"
      },
      "execution_count": 109,
      "outputs": [
        {
          "output_type": "stream",
          "name": "stdout",
          "text": [
            "Confusion matrix, without normalization\n",
            "[[ 254   85  118]\n",
            " [  40  392  231]\n",
            " [  23  116 2193]]\n"
          ]
        },
        {
          "output_type": "display_data",
          "data": {
            "text/plain": [
              "<Figure size 432x288 with 2 Axes>"
            ],
            "image/png": "[encoded data removed]"
          },
          "metadata": {}
        }
      ]
    },
    {
      "cell_type": "code",
      "source": [
        "print(classification_report(Y_test_1, y_pred_lr, target_names=['-1', '0', '1']))"
      ],
      "metadata": {
        "colab": {
          "base_uri": "https://localhost:8080/"
        },
        "id": "FyeX0bCFYWKU",
        "outputId": "f7cd8c74-6438-4890-8a3d-5135ddf4b80d"
      },
      "execution_count": 110,
      "outputs": [
        {
          "output_type": "stream",
          "name": "stdout",
          "text": [
            "              precision    recall  f1-score   support\n",
            "\n",
            "          -1       0.80      0.56      0.66       457\n",
            "           0       0.66      0.59      0.62       663\n",
            "           1       0.86      0.94      0.90      2332\n",
            "\n",
            "    accuracy                           0.82      3452\n",
            "   macro avg       0.78      0.70      0.73      3452\n",
            "weighted avg       0.82      0.82      0.81      3452\n",
            "\n"
          ]
        }
      ]
    },
    {
      "cell_type": "code",
      "source": [
        "modelrdf = RandomForestClassifier(n_estimators=10)\n",
        "modelrdf.fit(X_train_1, Y_train_1)\n",
        "print(\"Model RandomForestClassifier\")\n",
        "print(\"Train score: \", modelrdf.score(X_train_1, Y_train_1))\n",
        "print(\"Test score: \", modelrdf.score(X_test_1, Y_test_1))\n",
        "y_pred_rdf = modelrdf.predict(X_test_1)\n",
        "print(\"F1 score: \",f1_score(Y_test_1, y_pred_rdf, average = 'macro'))"
      ],
      "metadata": {
        "colab": {
          "base_uri": "https://localhost:8080/"
        },
        "id": "ng8OFYeWYXs7",
        "outputId": "43da4d77-9b03-4b50-a472-6a0453dc2d8e"
      },
      "execution_count": 111,
      "outputs": [
        {
          "output_type": "stream",
          "name": "stdout",
          "text": [
            "Model RandomForestClassifier\n",
            "Train score:  0.9855936413313463\n",
            "Test score:  0.8146002317497103\n",
            "F1 score:  0.7108838235481039\n"
          ]
        }
      ]
    },
    {
      "cell_type": "code",
      "source": [
        "cnf_matrix_rdf = confusion_matrix(Y_test_1, y_pred_rdf, labels=[-1, 0, 1])\n",
        "np.set_printoptions(precision=2)\n",
        "plt.figure()\n",
        "plot_confusion_matrix(cnf_matrix_rdf, classes=[-1, 0, 1],\n",
        "                      title='Confusion matrix, without normalization')"
      ],
      "metadata": {
        "colab": {
          "base_uri": "https://localhost:8080/",
          "height": 366
        },
        "id": "U9IZ1cL_YZKz",
        "outputId": "bf344f33-22d5-4e56-ef4b-734d983330e7"
      },
      "execution_count": 112,
      "outputs": [
        {
          "output_type": "stream",
          "name": "stdout",
          "text": [
            "Confusion matrix, without normalization\n",
            "[[ 254   71  132]\n",
            " [  71  378  214]\n",
            " [  42  110 2180]]\n"
          ]
        },
        {
          "output_type": "display_data",
          "data": {
            "text/plain": [
              "<Figure size 432x288 with 2 Axes>"
            ],
            "image/png": "[encoded data removed]"
          },
          "metadata": {}
        }
      ]
    },
    {
      "cell_type": "code",
      "source": [
        "print(classification_report(Y_test_1, y_pred_rdf, target_names=['-1', '0', '1']))"
      ],
      "metadata": {
        "colab": {
          "base_uri": "https://localhost:8080/"
        },
        "id": "2NrKkLMCYa0f",
        "outputId": "d3637cd2-7a73-4a35-b20d-ea68119dade7"
      },
      "execution_count": 113,
      "outputs": [
        {
          "output_type": "stream",
          "name": "stdout",
          "text": [
            "              precision    recall  f1-score   support\n",
            "\n",
            "          -1       0.69      0.56      0.62       457\n",
            "           0       0.68      0.57      0.62       663\n",
            "           1       0.86      0.93      0.90      2332\n",
            "\n",
            "    accuracy                           0.81      3452\n",
            "   macro avg       0.74      0.69      0.71      3452\n",
            "weighted avg       0.80      0.81      0.81      3452\n",
            "\n"
          ]
        }
      ]
    },
    {
      "cell_type": "markdown",
      "source": [
        "##Dự đoán \n"
      ],
      "metadata": {
        "id": "EGq7QnJ-YdvY"
      }
    },
    {
      "cell_type": "code",
      "source": [
        "import joblib\n",
        "joblib.dump(vectorizer_1, 'tf_idf.pkl')\n",
        "#joblib.dump(modellr, \"bestmodel.pkl\")"
      ],
      "metadata": {
        "colab": {
          "base_uri": "https://localhost:8080/"
        },
        "id": "fhOHOSB6Yc71",
        "outputId": "c1c7a34e-a287-41a4-c7c3-6ffcabd3acb7"
      },
      "execution_count": 114,
      "outputs": [
        {
          "output_type": "execute_result",
          "data": {
            "text/plain": [
              "['tf_idf.pkl']"
            ]
          },
          "metadata": {},
          "execution_count": 114
        }
      ]
    },
    {
      "cell_type": "code",
      "source": [
        "model_1"
      ],
      "metadata": {
        "colab": {
          "base_uri": "https://localhost:8080/"
        },
        "id": "Vocwn0YPYg1y",
        "outputId": "a9085e4b-05b1-40e6-82bc-171bdc5329a1"
      },
      "execution_count": 115,
      "outputs": [
        {
          "output_type": "execute_result",
          "data": {
            "text/plain": [
              "SVC(kernel='linear')"
            ]
          },
          "metadata": {},
          "execution_count": 115
        }
      ]
    },
    {
      "cell_type": "code",
      "source": [
        "!pip install pyvi"
      ],
      "metadata": {
        "colab": {
          "base_uri": "https://localhost:8080/"
        },
        "id": "6DgIrX_5YiJs",
        "outputId": "1c44844d-f1ec-4410-c7c8-612ccf4f9746"
      },
      "execution_count": 116,
      "outputs": [
        {
          "output_type": "stream",
          "name": "stdout",
          "text": [
            "Looking in indexes: https://pypi.org/simple, https://us-python.pkg.dev/colab-wheels/public/simple/\n",
            "Requirement already satisfied: pyvi in /usr/local/lib/python3.7/dist-packages (0.1.1)\n",
            "Requirement already satisfied: sklearn-crfsuite in /usr/local/lib/python3.7/dist-packages (from pyvi) (0.3.6)\n",
            "Requirement already satisfied: scikit-learn in /usr/local/lib/python3.7/dist-packages (from pyvi) (1.0.2)\n",
            "Requirement already satisfied: scipy>=1.1.0 in /usr/local/lib/python3.7/dist-packages (from scikit-learn->pyvi) (1.4.1)\n",
            "Requirement already satisfied: joblib>=0.11 in /usr/local/lib/python3.7/dist-packages (from scikit-learn->pyvi) (1.1.0)\n",
            "Requirement already satisfied: threadpoolctl>=2.0.0 in /usr/local/lib/python3.7/dist-packages (from scikit-learn->pyvi) (3.1.0)\n",
            "Requirement already satisfied: numpy>=1.14.6 in /usr/local/lib/python3.7/dist-packages (from scikit-learn->pyvi) (1.21.6)\n",
            "Requirement already satisfied: tqdm>=2.0 in /usr/local/lib/python3.7/dist-packages (from sklearn-crfsuite->pyvi) (4.64.0)\n",
            "Requirement already satisfied: six in /usr/local/lib/python3.7/dist-packages (from sklearn-crfsuite->pyvi) (1.15.0)\n",
            "Requirement already satisfied: python-crfsuite>=0.8.3 in /usr/local/lib/python3.7/dist-packages (from sklearn-crfsuite->pyvi) (0.9.8)\n",
            "Requirement already satisfied: tabulate in /usr/local/lib/python3.7/dist-packages (from sklearn-crfsuite->pyvi) (0.8.9)\n"
          ]
        }
      ]
    },
    {
      "cell_type": "code",
      "source": [
        "#!wget https://github.com/ThuanPhong0126/CS114.K21/blob/master/Project/tfidf_pyvi.pkl?raw=true\n",
        "# !wget https://github.com/ThuanPhong0126/CS114.K21/blob/master/Project/model_SVC.sav?raw=true\n",
        "\n",
        "#!pip install pyvi\n",
        "import joblib\n",
        "import pandas as pd\n",
        "from pyvi import ViTokenizer\n",
        "\n",
        "def Token(t):\n",
        "  return ViTokenizer.tokenize(t)\n",
        "\n",
        "def standardize_data(t):\n",
        "\n",
        "  t = t.lower()\n",
        "  t = t.replace(',', ' ').replace('.', ' ')\\\n",
        "      .replace(\";\", \" \").replace(\"“\", \" \") \\\n",
        "      .replace(\":\", \" \").replace(\"”\", \" \") \\\n",
        "      .replace('\"', \" \").replace(\"'\", \" \") \\\n",
        "      .replace(\"!\", \" \").replace(\"?\", \" \").replace(\"-\", \" \").replace(\"?\", \" \") \n",
        "  t = t.strip()\n",
        "  return t\n",
        "\n",
        "def du_doan(comment):\n",
        "  emb_loaded=joblib.load('tf_idf.pkl')\n",
        "  model_loaded=joblib.load('bestmodel.pkl')\n",
        "  comment=comment.strip()\n",
        "  print(comment)\n",
        "  feature=pd.Series(comment.split('.'))\n",
        "  comment=feature\n",
        "  feature = feature.apply(standardize_data)\n",
        "  feature=emb_loaded.transform(feature).toarray()\n",
        "  #print(feature.shape)\n",
        "  predict=model_loaded.predict(feature)\n",
        "  \n",
        "  if predict==1:\n",
        "      return (\"Bình luận tốt về sản phẩm\")\n",
        "  if predict==0:\n",
        "      return (\"Bình luận không liên quan hoặc trung tính về sản phẩm\")\n",
        "  if predict==-1:\n",
        "      return (\"Bình luận kém về sản phẩm\")"
      ],
      "metadata": {
        "id": "ZDlVem0OYjl1"
      },
      "execution_count": 117,
      "outputs": []
    },
    {
      "cell_type": "code",
      "source": [
        "!pip install gradio\n"
      ],
      "metadata": {
        "colab": {
          "base_uri": "https://localhost:8080/"
        },
        "id": "2qTEgJ9wYmjT",
        "outputId": "2fd747e2-33a4-4870-a3d2-d4f5e511c49d"
      },
      "execution_count": 118,
      "outputs": [
        {
          "output_type": "stream",
          "name": "stdout",
          "text": [
            "Looking in indexes: https://pypi.org/simple, https://us-python.pkg.dev/colab-wheels/public/simple/\n",
            "Requirement already satisfied: gradio in /usr/local/lib/python3.7/dist-packages (3.0.15)\n",
            "Requirement already satisfied: fastapi in /usr/local/lib/python3.7/dist-packages (from gradio) (0.78.0)\n",
            "Requirement already satisfied: pillow in /usr/local/lib/python3.7/dist-packages (from gradio) (7.1.2)\n",
            "Requirement already satisfied: markdown-it-py[linkify,plugins] in /usr/local/lib/python3.7/dist-packages (from gradio) (2.1.0)\n",
            "Requirement already satisfied: ffmpy in /usr/local/lib/python3.7/dist-packages (from gradio) (0.3.0)\n",
            "Requirement already satisfied: pydub in /usr/local/lib/python3.7/dist-packages (from gradio) (0.25.1)\n",
            "Requirement already satisfied: orjson in /usr/local/lib/python3.7/dist-packages (from gradio) (3.7.2)\n",
            "Requirement already satisfied: analytics-python in /usr/local/lib/python3.7/dist-packages (from gradio) (1.4.0)\n",
            "Requirement already satisfied: aiohttp in /usr/local/lib/python3.7/dist-packages (from gradio) (3.8.1)\n",
            "Requirement already satisfied: python-multipart in /usr/local/lib/python3.7/dist-packages (from gradio) (0.0.5)\n",
            "Requirement already satisfied: matplotlib in /usr/local/lib/python3.7/dist-packages (from gradio) (3.2.2)\n",
            "Requirement already satisfied: pandas in /usr/local/lib/python3.7/dist-packages (from gradio) (1.3.5)\n",
            "Requirement already satisfied: paramiko in /usr/local/lib/python3.7/dist-packages (from gradio) (2.11.0)\n",
            "Requirement already satisfied: uvicorn in /usr/local/lib/python3.7/dist-packages (from gradio) (0.17.6)\n",
            "Requirement already satisfied: requests in /usr/local/lib/python3.7/dist-packages (from gradio) (2.23.0)\n",
            "Requirement already satisfied: Jinja2 in /usr/local/lib/python3.7/dist-packages (from gradio) (2.11.3)\n",
            "Requirement already satisfied: numpy in /usr/local/lib/python3.7/dist-packages (from gradio) (1.21.6)\n",
            "Requirement already satisfied: pycryptodome in /usr/local/lib/python3.7/dist-packages (from gradio) (3.14.1)\n",
            "Requirement already satisfied: charset-normalizer<3.0,>=2.0 in /usr/local/lib/python3.7/dist-packages (from aiohttp->gradio) (2.0.12)\n",
            "Requirement already satisfied: yarl<2.0,>=1.0 in /usr/local/lib/python3.7/dist-packages (from aiohttp->gradio) (1.7.2)\n",
            "Requirement already satisfied: aiosignal>=1.1.2 in /usr/local/lib/python3.7/dist-packages (from aiohttp->gradio) (1.2.0)\n",
            "Requirement already satisfied: typing-extensions>=3.7.4 in /usr/local/lib/python3.7/dist-packages (from aiohttp->gradio) (4.2.0)\n",
            "Requirement already satisfied: async-timeout<5.0,>=4.0.0a3 in /usr/local/lib/python3.7/dist-packages (from aiohttp->gradio) (4.0.2)\n",
            "Requirement already satisfied: asynctest==0.13.0 in /usr/local/lib/python3.7/dist-packages (from aiohttp->gradio) (0.13.0)\n",
            "Requirement already satisfied: attrs>=17.3.0 in /usr/local/lib/python3.7/dist-packages (from aiohttp->gradio) (21.4.0)\n",
            "Requirement already satisfied: frozenlist>=1.1.1 in /usr/local/lib/python3.7/dist-packages (from aiohttp->gradio) (1.3.0)\n",
            "Requirement already satisfied: multidict<7.0,>=4.5 in /usr/local/lib/python3.7/dist-packages (from aiohttp->gradio) (6.0.2)\n",
            "Requirement already satisfied: idna>=2.0 in /usr/local/lib/python3.7/dist-packages (from yarl<2.0,>=1.0->aiohttp->gradio) (2.10)\n",
            "Requirement already satisfied: python-dateutil>2.1 in /usr/local/lib/python3.7/dist-packages (from analytics-python->gradio) (2.8.2)\n",
            "Requirement already satisfied: backoff==1.10.0 in /usr/local/lib/python3.7/dist-packages (from analytics-python->gradio) (1.10.0)\n",
            "Requirement already satisfied: six>=1.5 in /usr/local/lib/python3.7/dist-packages (from analytics-python->gradio) (1.15.0)\n",
            "Requirement already satisfied: monotonic>=1.5 in /usr/local/lib/python3.7/dist-packages (from analytics-python->gradio) (1.6)\n",
            "Requirement already satisfied: chardet<4,>=3.0.2 in /usr/local/lib/python3.7/dist-packages (from requests->gradio) (3.0.4)\n",
            "Requirement already satisfied: urllib3!=1.25.0,!=1.25.1,<1.26,>=1.21.1 in /usr/local/lib/python3.7/dist-packages (from requests->gradio) (1.24.3)\n",
            "Requirement already satisfied: certifi>=2017.4.17 in /usr/local/lib/python3.7/dist-packages (from requests->gradio) (2022.5.18.1)\n",
            "Requirement already satisfied: pydantic!=1.7,!=1.7.1,!=1.7.2,!=1.7.3,!=1.8,!=1.8.1,<2.0.0,>=1.6.2 in /usr/local/lib/python3.7/dist-packages (from fastapi->gradio) (1.9.1)\n",
            "Requirement already satisfied: starlette==0.19.1 in /usr/local/lib/python3.7/dist-packages (from fastapi->gradio) (0.19.1)\n",
            "Requirement already satisfied: anyio<5,>=3.4.0 in /usr/local/lib/python3.7/dist-packages (from starlette==0.19.1->fastapi->gradio) (3.6.1)\n",
            "Requirement already satisfied: sniffio>=1.1 in /usr/local/lib/python3.7/dist-packages (from anyio<5,>=3.4.0->starlette==0.19.1->fastapi->gradio) (1.2.0)\n",
            "Requirement already satisfied: MarkupSafe>=0.23 in /usr/local/lib/python3.7/dist-packages (from Jinja2->gradio) (2.0.1)\n",
            "Requirement already satisfied: mdurl~=0.1 in /usr/local/lib/python3.7/dist-packages (from markdown-it-py[linkify,plugins]->gradio) (0.1.1)\n",
            "Requirement already satisfied: mdit-py-plugins in /usr/local/lib/python3.7/dist-packages (from markdown-it-py[linkify,plugins]->gradio) (0.3.0)\n",
            "Requirement already satisfied: linkify-it-py~=1.0 in /usr/local/lib/python3.7/dist-packages (from markdown-it-py[linkify,plugins]->gradio) (1.0.3)\n",
            "Requirement already satisfied: uc-micro-py in /usr/local/lib/python3.7/dist-packages (from linkify-it-py~=1.0->markdown-it-py[linkify,plugins]->gradio) (1.0.1)\n",
            "Requirement already satisfied: pyparsing!=2.0.4,!=2.1.2,!=2.1.6,>=2.0.1 in /usr/local/lib/python3.7/dist-packages (from matplotlib->gradio) (3.0.9)\n",
            "Requirement already satisfied: cycler>=0.10 in /usr/local/lib/python3.7/dist-packages (from matplotlib->gradio) (0.11.0)\n",
            "Requirement already satisfied: kiwisolver>=1.0.1 in /usr/local/lib/python3.7/dist-packages (from matplotlib->gradio) (1.4.2)\n",
            "Requirement already satisfied: pytz>=2017.3 in /usr/local/lib/python3.7/dist-packages (from pandas->gradio) (2022.1)\n",
            "Requirement already satisfied: cryptography>=2.5 in /usr/local/lib/python3.7/dist-packages (from paramiko->gradio) (37.0.2)\n",
            "Requirement already satisfied: bcrypt>=3.1.3 in /usr/local/lib/python3.7/dist-packages (from paramiko->gradio) (3.2.2)\n",
            "Requirement already satisfied: pynacl>=1.0.1 in /usr/local/lib/python3.7/dist-packages (from paramiko->gradio) (1.5.0)\n",
            "Requirement already satisfied: cffi>=1.1 in /usr/local/lib/python3.7/dist-packages (from bcrypt>=3.1.3->paramiko->gradio) (1.15.0)\n",
            "Requirement already satisfied: pycparser in /usr/local/lib/python3.7/dist-packages (from cffi>=1.1->bcrypt>=3.1.3->paramiko->gradio) (2.21)\n",
            "Requirement already satisfied: h11>=0.8 in /usr/local/lib/python3.7/dist-packages (from uvicorn->gradio) (0.13.0)\n",
            "Requirement already satisfied: asgiref>=3.4.0 in /usr/local/lib/python3.7/dist-packages (from uvicorn->gradio) (3.5.2)\n",
            "Requirement already satisfied: click>=7.0 in /usr/local/lib/python3.7/dist-packages (from uvicorn->gradio) (7.1.2)\n"
          ]
        }
      ]
    },
    {
      "cell_type": "code",
      "source": [
        "import gradio as gr"
      ],
      "metadata": {
        "id": "GxjFd9qIYofD"
      },
      "execution_count": 119,
      "outputs": []
    },
    {
      "cell_type": "code",
      "source": [
        "# Define Gradio interface\n",
        "gradio_ui = gr.Interface(\n",
        "    fn=du_doan,\n",
        "    title=\"Phân tích cảm xúc bình luận sản phẩm\",\n",
        "    description=\"Nhập câu bình luận về sản phâm\",\n",
        "    inputs=gr.inputs.Textbox(lines=1, label=\"Paste comment text here\"),\n",
        "    outputs=gr.outputs.Textbox(label=\"Chất lượng sản phẩm\"),\n",
        ")"
      ],
      "metadata": {
        "colab": {
          "base_uri": "https://localhost:8080/"
        },
        "id": "gCXGnZYiYtbS",
        "outputId": "ecdfe4d5-6f1c-43aa-fe67-66b4b05ee2f5"
      },
      "execution_count": 120,
      "outputs": [
        {
          "output_type": "stream",
          "name": "stderr",
          "text": [
            "/usr/local/lib/python3.7/dist-packages/gradio/deprecation.py:40: UserWarning: `optional` parameter is deprecated, and it has no effect\n",
            "  warnings.warn(value)\n",
            "/usr/local/lib/python3.7/dist-packages/gradio/deprecation.py:40: UserWarning: `numeric` parameter is deprecated, and it has no effect\n",
            "  warnings.warn(value)\n",
            "/usr/local/lib/python3.7/dist-packages/gradio/deprecation.py:40: UserWarning: The 'type' parameter has been deprecated. Use the Number component instead.\n",
            "  warnings.warn(value)\n"
          ]
        }
      ]
    },
    {
      "cell_type": "code",
      "source": [
        "gradio_ui.launch()\n"
      ],
      "metadata": {
        "id": "jfdbjJ2WYvvr",
        "outputId": "575687d1-b732-4ffa-e104-98cb63daafe2",
        "colab": {
          "base_uri": "https://localhost:8080/",
          "height": 643
        }
      },
      "execution_count": 121,
      "outputs": [
        {
          "output_type": "stream",
          "name": "stdout",
          "text": [
            "Colab notebook detected. To show errors in colab notebook, set `debug=True` in `launch()`\n",
            "Running on public URL: https://40871.gradio.app\n",
            "\n",
            "This share link expires in 72 hours. For free permanent hosting, check out Spaces (https://huggingface.co/spaces)\n"
          ]
        },
        {
          "output_type": "display_data",
          "data": {
            "text/plain": [
              "<IPython.core.display.HTML object>"
            ],
            "text/html": [
              "<div><iframe src=\"https://40871.gradio.app\" width=\"900\" height=\"500\" allow=\"autoplay; camera; microphone;\" frameborder=\"0\" allowfullscreen></iframe></div>"
            ]
          },
          "metadata": {}
        },
        {
          "output_type": "execute_result",
          "data": {
            "text/plain": [
              "(<gradio.routes.App at 0x7f7ab1b30f50>,\n",
              " 'http://127.0.0.1:7861/',\n",
              " 'https://40871.gradio.app')"
            ]
          },
          "metadata": {},
          "execution_count": 121
        }
      ]
    }
  ]
}